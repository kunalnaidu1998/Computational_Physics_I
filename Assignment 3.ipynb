{
 "cells": [
  {
   "cell_type": "markdown",
   "metadata": {},
   "source": [
    "# Assignment 3\n",
    "\n",
    "## Kunal Naidu\n",
    "## UCID: 30020999"
   ]
  },
  {
   "cell_type": "code",
   "execution_count": 1,
   "metadata": {},
   "outputs": [],
   "source": [
    "import scipy.integrate\n",
    "import numpy as np\n",
    "import math\n",
    "import time\n",
    "import matplotlib.pyplot as plt"
   ]
  },
  {
   "cell_type": "markdown",
   "metadata": {},
   "source": [
    "In this report we will integrate the triple integral \n",
    "\n",
    " $$ \\int_{x=0}^1 \\int_{y=0}^\\sqrt{1-x^2} \\int_{z=0}^\\sqrt{1-x^2-y^2} \\frac{dz \\, dy \\, dx}{1 + x^2 + y^2 + z^2} $$\n",
    " \n",
    "This evaluation would be made using a function which takes advantage of scipy.integrate.romberg. scipy.integrate.romberg takes a function with a single varaible and and evaluates it over a certain range. We will also compare the use of different coordinate systems. \n",
    "\n",
    "To have a theoredical value to reference to the integral was calculated in Wolfram was determined to be 0.337096\n",
    "\n",
    "\n",
    "We will begin with looking at an Cartesian coordinate system and evaluating the triple integral.\n",
    "\n",
    "\n"
   ]
  },
  {
   "cell_type": "code",
   "execution_count": 2,
   "metadata": {},
   "outputs": [
    {
     "name": "stdout",
     "output_type": "stream",
     "text": [
      "0.3234114395499588\n"
     ]
    }
   ],
   "source": [
    "n_calls_1=0\n",
    "\n",
    "def integral_xyz(n):\n",
    "    def integral_x(x):\n",
    "        \n",
    "        def integral_y(y):\n",
    "            \n",
    "            def integral_z(z):\n",
    "                global n_calls_1\n",
    "                n_calls_1=n_calls_1+1\n",
    "                return 1.0/(1.0+ x*x+y*y+z*z)\n",
    "            \n",
    "            lo, hi = 0.0, np.sqrt(np.abs(1-x*x-y*y))\n",
    "            return scipy.integrate.romberg(integral_z, lo, hi, tol=n ,  divmax=15)\n",
    "        \n",
    "        lo, hi = 0.0, np.sqrt(np.abs(1-x*x))\n",
    "        return scipy.integrate.romberg(integral_y, lo, hi, tol=n , divmax=15)\n",
    "    \n",
    "    lo, hi = 0.0, 1.0\n",
    "    return scipy.integrate.romberg(integral_x, lo, hi, tol=n , divmax=15)\n",
    "\n",
    "t_cartesian=time.time()\n",
    "print(integral_xyz(1))\n",
    "t_prime_cartesian=time.time()\n",
    "delta_time_cartesian= t_prime_cartesian-t_cartesian\n"
   ]
  },
  {
   "cell_type": "markdown",
   "metadata": {},
   "source": [
    "Now we take the previous integral and transform it into spherical coordinates. Doing this gets us the integral:\n",
    "\n",
    "$$ \\int_{\\theta=0}^{\\pi/2} \\int_{\\phi=0}^{\\pi/2} \\int_{\\rho=0}^1 \\frac{\\rho^2 \\sin\\phi \\, d\\rho \\, d\\phi \\, d\\theta}{1 + \\rho^2} $$"
   ]
  },
  {
   "cell_type": "code",
   "execution_count": 3,
   "metadata": {},
   "outputs": [
    {
     "name": "stdout",
     "output_type": "stream",
     "text": [
      "0.33709577580995265\n"
     ]
    }
   ],
   "source": [
    "n_calls=0\n",
    "\n",
    "def integral_xyz_spherical(n):\n",
    "    def integral_theta(theta):\n",
    "        \n",
    "        def integral_phi(phi):\n",
    "            \n",
    "            def integral_p(p):\n",
    "                global n_calls\n",
    "                n_calls=n_calls+1\n",
    "                return (p*p*np.sin(phi))/(1+p*p)\n",
    "            \n",
    "            lo, hi = 0.0, 1.0\n",
    "            return scipy.integrate.romberg(integral_p, lo, hi, tol=n ,  divmax=15)\n",
    "        \n",
    "        lo, hi = 0.0, np.pi/2\n",
    "        return scipy.integrate.romberg(integral_phi, lo, hi, tol=n , divmax=15)\n",
    "    \n",
    "    lo, hi = 0.0, np.pi/2\n",
    "    return scipy.integrate.romberg(integral_theta, lo, hi, tol=n , divmax=15)\n",
    "\n",
    "\n",
    "\n",
    "# Starting time for Program to Run\n",
    "t_spherical=time.time()\n",
    "\n",
    "#Running program\n",
    "print(integral_xyz_spherical(1.0e-6))\n",
    "\n",
    "#Ending time for Program to Run\n",
    "t_prime_spherical=time.time()\n",
    "\n",
    "#Finding duration of Program to Run\n",
    "delta_time_spherical= t_prime_spherical-t_spherical\n"
   ]
  },
  {
   "cell_type": "code",
   "execution_count": 4,
   "metadata": {},
   "outputs": [],
   "source": [
    "x_values= np.geomspace(1.0e-6,1, num=7)\n",
    "\n",
    "n_calls=0\n",
    "\n",
    "n_calls_1=0\n",
    "\n",
    "result=[]\n",
    "result_1=[]\n",
    "\n",
    "for values in x_values:\n",
    "    integral_xyz(values)\n",
    "    result.append(n_calls_1)\n",
    "    n_calls_1=0\n",
    "    \n",
    "    integral_xyz_spherical(values)\n",
    "    result_1.append(n_calls)\n",
    "    n_calls=0"
   ]
  },
  {
   "cell_type": "code",
   "execution_count": 5,
   "metadata": {},
   "outputs": [
    {
     "data": {
      "text/plain": [
       "Text(0,0.5,'Number of Calls to the Integrand')"
      ]
     },
     "execution_count": 5,
     "metadata": {},
     "output_type": "execute_result"
    },
    {
     "data": {
      "image/png": "[encoded data removed]",
      "text/plain": [
       "<matplotlib.figure.Figure at 0x109540668>"
      ]
     },
     "metadata": {},
     "output_type": "display_data"
    }
   ],
   "source": [
    "plt.plot(x_values, result_1, label= 'Spherical Coordinates')\n",
    "plt.yscale('log')\n",
    "plt.xscale('log')\n",
    "plt.grid('on')\n",
    "plt.title('Comparing the number of calls to the integrand to different tolerance values for Spherical Coordinates')\n",
    "plt.xlabel('Tolerance')\n",
    "plt.ylabel('Number of Calls to the Integrand')"
   ]
  },
  {
   "cell_type": "code",
   "execution_count": 6,
   "metadata": {},
   "outputs": [
    {
     "data": {
      "text/plain": [
       "Text(0,0.5,'Number of Calls to the Integrand')"
      ]
     },
     "execution_count": 6,
     "metadata": {},
     "output_type": "execute_result"
    },
    {
     "data": {
      "image/png": "[encoded data removed]",
      "text/plain": [
       "<matplotlib.figure.Figure at 0x10b710e10>"
      ]
     },
     "metadata": {},
     "output_type": "display_data"
    }
   ],
   "source": [
    "plt.plot( x_values, result ,label= 'Cartesian Coordinates')\n",
    "plt.yscale('log')\n",
    "plt.xscale('log')\n",
    "plt.grid('on')\n",
    "plt.title('Comparing the number of calls to the integrand to different tolerance values for Cartesian Coordinates.')\n",
    "plt.xlabel('Tolerance')\n",
    "plt.ylabel('Number of Calls to the Integrand')\n",
    "\n"
   ]
  },
  {
   "cell_type": "markdown",
   "metadata": {},
   "source": [
    "## Analysis\n",
    "\n",
    "Now comparing Spherical coordinates to Cartesian coordinates. We will comapare the accuracy of the methods using a percent error. We will also compare the time for the program to run and the amount of times the integrand is referenced."
   ]
  },
  {
   "cell_type": "code",
   "execution_count": 7,
   "metadata": {},
   "outputs": [
    {
     "name": "stdout",
     "output_type": "stream",
     "text": [
      "The percent error for the Cartesian coordinate system is 0.00018944874077165633 %\n",
      "The percent error for the Spherical coordinate system is 6.650629119296914e-05 %\n",
      "The integral_xyz() fuction took 0.0019876956939697266 seconds to run.\n",
      "The integral_xyz_spherical() fuction took 0.013853073120117188 seconds to run.\n"
     ]
    }
   ],
   "source": [
    "# Cartesian coordinate system\n",
    "\n",
    "error_cartesian= np.abs((0.337096-integral_xyz(1.0e-6))/0.337096)*100\n",
    "print('The percent error for the Cartesian coordinate system is',error_cartesian,'%')\n",
    "\n",
    "error_spherical= np.abs((0.337096-integral_xyz_spherical(1.0e-6))/0.337096)*100\n",
    "print('The percent error for the Spherical coordinate system is',error_spherical,'%')\n",
    "\n",
    "print('The integral_xyz() fuction took', delta_time_cartesian,'seconds to run.')\n",
    "print('The integral_xyz_spherical() fuction took', delta_time_spherical,'seconds to run.')"
   ]
  },
  {
   "cell_type": "markdown",
   "metadata": {},
   "source": [
    "## Conclusion\n",
    "\n",
    "Evaluating the integral using Cartesian coordinates took significantly longer than evualuating using Spherical coordinates. We can see the possible reason for this when plotting tolerance to the amount of times the function references back to the integrand. integral_xyz() called the integrand significantly more times than integral_xyz_spherical. Having to call on the integrad so many times could prove that the function had to make more calculations thus taking longer to evaluate. Both ways of calculating the integral were realiably accurate but evaluating with spherical coordinates was slightly more accurate. After this we can conclude that using the appropriate coordinate system when evaluating integrals can help to decrease run time of the program and increase accuracy."
   ]
  },
  {
   "cell_type": "code",
   "execution_count": null,
   "metadata": {},
   "outputs": [],
   "source": []
  }
 ],
 "metadata": {
  "kernelspec": {
   "display_name": "Python 3",
   "language": "python",
   "name": "python3"
  },
  "language_info": {
   "codemirror_mode": {
    "name": "ipython",
    "version": 3
   },
   "file_extension": ".py",
   "mimetype": "text/x-python",
   "name": "python",
   "nbconvert_exporter": "python",
   "pygments_lexer": "ipython3",
   "version": "3.7.0"
  }
 },
 "nbformat": 4,
 "nbformat_minor": 2
}
